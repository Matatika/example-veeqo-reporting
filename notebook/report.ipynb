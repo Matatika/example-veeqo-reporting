{
 "cells": [
  {
   "cell_type": "code",
   "execution_count": 1,
   "metadata": {
    "execution": {
     "iopub.execute_input": "2023-05-09T14:45:13.378124Z",
     "iopub.status.busy": "2023-05-09T14:45:13.377941Z",
     "iopub.status.idle": "2023-05-09T14:45:17.534813Z",
     "shell.execute_reply": "2023-05-09T14:45:17.534312Z"
    }
   },
   "outputs": [],
   "source": [
    "%%capture\n",
    "!pip install numpy==1.23.3\n",
    "!pip install pandas==1.4.3\n",
    "!pip install Faker==18.6.2\n",
    "!pip install weasyprint==58.1\n",
    "!pip install pdfkit==1.0.0"
   ]
  },
  {
   "cell_type": "code",
   "execution_count": 2,
   "metadata": {
    "execution": {
     "iopub.execute_input": "2023-05-09T14:45:17.536932Z",
     "iopub.status.busy": "2023-05-09T14:45:17.536830Z",
     "iopub.status.idle": "2023-05-09T14:45:18.091502Z",
     "shell.execute_reply": "2023-05-09T14:45:18.090659Z"
    }
   },
   "outputs": [],
   "source": [
    "%%capture\n",
    "import datetime\n",
    "import pandas as pd\n",
    "import pdfkit\n",
    "import numpy as np\n",
    "import uuid\n",
    "from faker import Faker\n",
    "from IPython.display import display, HTML\n",
    "from weasyprint import HTML, CSS"
   ]
  },
  {
   "cell_type": "code",
   "execution_count": 3,
   "metadata": {
    "execution": {
     "iopub.execute_input": "2023-05-09T14:45:18.093666Z",
     "iopub.status.busy": "2023-05-09T14:45:18.093533Z",
     "iopub.status.idle": "2023-05-09T14:45:18.118173Z",
     "shell.execute_reply": "2023-05-09T14:45:18.117538Z"
    }
   },
   "outputs": [],
   "source": [
    "%%capture\n",
    "# Initialize Faker object for generating fake data\n",
    "fake = Faker()\n",
    "\n",
    "# Set the number of rows to generate\n",
    "num_rows = 10\n",
    "\n",
    "# Create a dictionary to hold the data for each column\n",
    "data = {\n",
    "    'id': [str(uuid.uuid4()) for _ in range(num_rows)],\n",
    "    'created': [fake.date_between(start_date='-1y', end_date='today') for _ in range(num_rows)],\n",
    "    'billing_address': [fake.address() for _ in range(num_rows)],\n",
    "    'customer_name': [fake.name() for _ in range(num_rows)],\n",
    "    'line_items': [np.random.choice(['T-shirt', 'Jeans', 'Sweater', 'Dress'], size=np.random.randint(1, 5), replace=False).tolist() for _ in range(num_rows)],\n",
    "    'special_conditions': [np.random.choice(['true', 'false'], replace=False) for _ in range(num_rows)],\n",
    "    'completed': [np.random.choice(['true', 'false'], replace=False) for _ in range(num_rows)]\n",
    "}\n",
    "\n",
    "# Add the 'due_date' column by iterating over the 'created' column\n",
    "data['due_date'] = [fake.date_between_dates(date_start, '+7d') for date_start in data['created']]\n",
    "\n",
    "# Create the DataFrame using the dictionary of data\n",
    "df = pd.DataFrame(data)"
   ]
  },
  {
   "cell_type": "code",
   "execution_count": 4,
   "metadata": {
    "execution": {
     "iopub.execute_input": "2023-05-09T14:45:18.120316Z",
     "iopub.status.busy": "2023-05-09T14:45:18.120201Z",
     "iopub.status.idle": "2023-05-09T14:45:18.124203Z",
     "shell.execute_reply": "2023-05-09T14:45:18.123837Z"
    }
   },
   "outputs": [],
   "source": [
    "%%capture\n",
    "# Define the masking colours\n",
    "def select_col(x):\n",
    "\n",
    "    light_blue = 'background-color: lightblue'\n",
    "    light_green = 'background-color: lightgreen'\n",
    "    red = 'background-color: red'\n",
    "\n",
    "    df1 = pd.DataFrame('', index=x.index, columns=x.columns)\n",
    "\n",
    "    special_conditions_mask = x['special_conditions'] == \"true\"\n",
    "    completed_true_mask = x['completed'] == \"true\"\n",
    "    completed_false_mask = x['completed'] == \"false\"\n",
    "\n",
    "    df1.loc[special_conditions_mask, 'special_conditions'] = light_blue\n",
    "    df1.loc[completed_true_mask, 'completed'] = light_green\n",
    "    df1.loc[completed_false_mask, 'completed'] = red\n",
    "\n",
    "    return df1"
   ]
  },
  {
   "cell_type": "code",
   "execution_count": 5,
   "metadata": {
    "execution": {
     "iopub.execute_input": "2023-05-09T14:45:18.125928Z",
     "iopub.status.busy": "2023-05-09T14:45:18.125819Z",
     "iopub.status.idle": "2023-05-09T14:45:18.422153Z",
     "shell.execute_reply": "2023-05-09T14:45:18.421627Z"
    }
   },
   "outputs": [
    {
     "data": {
      "text/plain": [
       "True"
      ]
     },
     "execution_count": 5,
     "metadata": {},
     "output_type": "execute_result"
    }
   ],
   "source": [
    "%%capture\n",
    "# Style the dataframe\n",
    "styled_df = df.style.apply(select_col, axis=None).hide(axis='index')\n",
    "\n",
    "# Convert to a html string\n",
    "html_string = styled_df.to_html().replace(\"\\\\n\",\"<br>\")\n",
    "\n",
    "# Save the HTML string to a file\n",
    "pdfkit.from_string(html_string, 'output/report.pdf')"
   ]
  }
 ],
 "metadata": {
  "kernelspec": {
   "display_name": "Python 3.8.10 64-bit ('3.8.10')",
   "language": "python",
   "name": "python3"
  },
  "language_info": {
   "codemirror_mode": {
    "name": "ipython",
    "version": 3
   },
   "file_extension": ".py",
   "mimetype": "text/x-python",
   "name": "python",
   "nbconvert_exporter": "python",
   "pygments_lexer": "ipython3",
   "version": "3.9.16"
  },
  "vscode": {
   "interpreter": {
    "hash": "083f3935398bc6c0f937f98b889ad2bea282c268f4af7d61df8418eabafeac9c"
   }
  }
 },
 "nbformat": 4,
 "nbformat_minor": 2
}
